{
 "cells": [
  {
   "cell_type": "markdown",
   "metadata": {},
   "source": [
    "# Solving Laplace's equation with boundary integral methods\n",
    "\n",
    "In this project, we show how to solve Laplace's equation with a boundary integral method (BIE). One inherent complication with BIEs is the evaluation of so-called nearly-singular integrals. Here, we will also show how to obtain accurate solutions in the entire domain using a special quadrature [Helsing, Ojala].\n",
    "\n",
    "\n",
    "All implementations for this project are in Python 3.6, and can be accessed through Git [here](https://github.com/aggimemnon/comppy17)."
   ]
  },
  {
   "cell_type": "code",
   "execution_count": null,
   "metadata": {
    "collapsed": true
   },
   "outputs": [],
   "source": []
  }
 ],
 "metadata": {
  "kernelspec": {
   "display_name": "Python 3",
   "language": "python",
   "name": "python3"
  },
  "language_info": {
   "codemirror_mode": {
    "name": "ipython",
    "version": 3
   },
   "file_extension": ".py",
   "mimetype": "text/x-python",
   "name": "python",
   "nbconvert_exporter": "python",
   "pygments_lexer": "ipython3",
   "version": "3.6.2"
  }
 },
 "nbformat": 4,
 "nbformat_minor": 2
}
